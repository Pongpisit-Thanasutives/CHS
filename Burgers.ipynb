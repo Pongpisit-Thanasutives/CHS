{
 "cells": [
  {
   "cell_type": "code",
   "execution_count": 1,
   "id": "b28567c5-c0e2-4efa-98a0-63961e04e39c",
   "metadata": {},
   "outputs": [],
   "source": [
    "### Author: Pongpisit Thanasutives ###\n",
    "%load_ext autoreload\n",
    "%autoreload 2\n",
    "\n",
    "import os\n",
    "from itertools import combinations\n",
    "import numpy as np\n",
    "from sklearn.datasets import make_regression\n",
    "from sklearn.linear_model import LinearRegression\n",
    "from tqdm import trange\n",
    "from scipy import io as sio\n",
    "from scipy.stats import uniform, norm\n",
    "import pysindy as ps\n",
    "import pocomc as pc\n",
    "from bayesian_model_evidence import log_evidence"
   ]
  },
  {
   "cell_type": "code",
   "execution_count": 2,
   "id": "c3ae7ab1-29da-46ac-b917-f1c6ead4b25b",
   "metadata": {},
   "outputs": [],
   "source": [
    "def TopRsq(X_full, y, m, n_tops=25):\n",
    "    n_feats = X_full.shape[-1]\n",
    "    r_scores = []\n",
    "    models = []\n",
    "    for comb in combinations(range(n_feats), m):\n",
    "        comb = list(comb)\n",
    "        active_indices = np.zeros(n_feats)\n",
    "        active_indices[comb] = 1\n",
    "        X_sub = X_full[:, comb]\n",
    "        lr = LinearRegression(fit_intercept=False).fit(X_sub, y)\n",
    "        R2 = lr.score(X_sub, y)\n",
    "        r_scores.append(R2)\n",
    "        models.append(active_indices)\n",
    "    r_scores = np.array(r_scores)\n",
    "    r_argsort = np.argsort(r_scores)[::-1][:n_tops]\n",
    "    r_scores = r_scores[r_argsort]\n",
    "    models = np.array(models).T\n",
    "    models = models[:, r_argsort]\n",
    "    rating = np.dot(models, r_scores)\n",
    "    return models, r_scores, rating"
   ]
  },
  {
   "cell_type": "code",
   "execution_count": 3,
   "id": "67516471-5f91-4578-a979-61fc4a2c82f8",
   "metadata": {},
   "outputs": [],
   "source": [
    "def comprehensive_search(X_full, y, max_support_size=8, n_tops=None, threshold=0.75):\n",
    "    X = X_full.copy()\n",
    "    n_feats = X_full.shape[-1]\n",
    "    n_tops = int(np.ceil(n_feats/2)) if n_tops is None else n_tops\n",
    "    ratings = np.zeros((n_feats, max_support_size))\n",
    "    search = True; support_size = 1\n",
    "    optimal_indices = None\n",
    "    active_indices = [_ for _ in range(n_feats)]\n",
    "    while search and support_size <= max_support_size:\n",
    "        _, _, rating = TopRsq(X, y, m=support_size, n_tops=n_tops)\n",
    "        rating = rating/rating.max()\n",
    "        ratings[:, support_size-1][active_indices] = rating\n",
    "        if support_size >= 2:\n",
    "            i0 = np.where(ratings[:, support_size-1] + ratings[:, support_size-2] == 0.)[0]\n",
    "            active_indices = [_ for _ in active_indices if _ not in set(i0)]\n",
    "            X = X_full[:, active_indices]\n",
    "            i1 = np.where(ratings[:, support_size-1] > threshold)[0]\n",
    "            i2 = np.where(ratings[:, support_size-2] > threshold)[0]\n",
    "            if len(i1) == len(i2) and np.all(i1 == i2):\n",
    "                search = False\n",
    "                optimal_indices = i1\n",
    "        support_size += 1\n",
    "    return optimal_indices, ratings[:, :support_size-1]"
   ]
  },
  {
   "cell_type": "code",
   "execution_count": 4,
   "id": "d70184eb-b539-4ae7-9fd5-4eb818c6ddf4",
   "metadata": {},
   "outputs": [
    {
     "name": "stderr",
     "output_type": "stream",
     "text": [
      "100%|████████████████████████████████████████████████████████████████████| 100/100 [00:08<00:00, 11.44it/s]\n"
     ]
    },
    {
     "data": {
      "text/plain": [
       "0.91"
      ]
     },
     "execution_count": 4,
     "metadata": {},
     "output_type": "execute_result"
    }
   ],
   "source": [
    "n_experiments = 100\n",
    "n_samples = 10000\n",
    "n_features = 8\n",
    "n_informative = 2\n",
    "\n",
    "threshold = 0.25\n",
    "max_support_size = 8\n",
    "\n",
    "success = 0\n",
    "for i in trange(n_experiments):\n",
    "    X_train, y_train = make_regression(n_samples=n_samples, n_features=n_features, n_informative=n_informative)\n",
    "    top_models, _, _ = TopRsq(X_train, y_train, m=n_informative)\n",
    "    true_indices = np.where(top_models[:, 0] > 0)[0]\n",
    "    est_indices, ratings = comprehensive_search(X_train, y_train, max_support_size=max_support_size, threshold=threshold)\n",
    "    if est_indices is not None and len(true_indices) == len(est_indices) and np.all(true_indices == est_indices):\n",
    "        success += 1\n",
    "        \n",
    "success/n_experiments"
   ]
  },
  {
   "cell_type": "markdown",
   "id": "d1c53fb0-2189-45e9-abec-70257e4ae903",
   "metadata": {},
   "source": [
    "### PDE ###"
   ]
  },
  {
   "cell_type": "code",
   "execution_count": 5,
   "id": "37423912-fac0-4199-bd39-04622baa3bb6",
   "metadata": {},
   "outputs": [
    {
     "name": "stdout",
     "output_type": "stream",
     "text": [
      "Noise level: 50.0\n"
     ]
    }
   ],
   "source": [
    "data_path = \"./Datasets/\"\n",
    "data = sio.loadmat(os.path.join(data_path, \"burgers.mat\"))\n",
    "u_clean = (data['usol']).real; u = u_clean.copy()\n",
    "x = (data['x'][0]).real\n",
    "t = (data['t'][:,0]).real\n",
    "dt = t[1]-t[0]; dx = x[2]-x[1]\n",
    "\n",
    "np.random.seed(0)\n",
    "noise_type = \"gaussian\"\n",
    "noise_lv = float(50)\n",
    "print(\"Noise level:\", noise_lv)\n",
    "noise = 0.01*np.abs(noise_lv)*(u.std())*np.random.randn(u.shape[0],u.shape[1])\n",
    "u = u + noise\n",
    "u = np.load(\"./Denoised_data/burgers_gaussian50_bm3d.npy\")\n",
    "\n",
    "xt = np.array([x.reshape(-1, 1), t.reshape(1, -1)], dtype=object)\n",
    "X, T = np.meshgrid(x, t)\n",
    "XT = np.asarray([X, T]).T"
   ]
  },
  {
   "cell_type": "code",
   "execution_count": 6,
   "id": "b4b6b9e2-e6a1-4b76-ac70-d22a829fccc9",
   "metadata": {},
   "outputs": [],
   "source": [
    "function_library = ps.PolynomialLibrary(degree=2, include_bias=False)\n",
    "\n",
    "weak_lib = ps.WeakPDELibrary(\n",
    "    function_library=function_library,\n",
    "    derivative_order=3,\n",
    "    spatiotemporal_grid=XT,\n",
    "    include_bias=True,\n",
    "    diff_kwargs={\"is_uniform\":True},\n",
    "    K=10000\n",
    ")\n",
    "\n",
    "X_pre = np.array(weak_lib.fit_transform(np.expand_dims(u, -1)))\n",
    "y_pre = weak_lib.convert_u_dot_integral(np.expand_dims(u, -1))\n",
    "N = len(y_pre)"
   ]
  },
  {
   "cell_type": "code",
   "execution_count": 7,
   "id": "4e1887bf-fbc0-4d06-bc0b-1934d8bd56d9",
   "metadata": {},
   "outputs": [
    {
     "data": {
      "text/plain": [
       "(array([4, 6]),\n",
       " array([[0.        , 0.        , 0.        , 0.        ],\n",
       "        [0.        , 0.        , 0.        , 0.        ],\n",
       "        [0.        , 0.47403751, 0.16667916, 0.33329491],\n",
       "        [0.99522028, 0.23659438, 0.        , 0.16664701],\n",
       "        [0.        , 0.50832923, 1.        , 1.        ],\n",
       "        [0.4026134 , 0.        , 0.16669967, 0.33335042],\n",
       "        [1.        , 1.        , 1.        , 1.        ],\n",
       "        [0.85917427, 0.24401524, 0.16666811, 0.1666479 ],\n",
       "        [0.        , 0.25272034, 0.16663835, 0.33329349],\n",
       "        [0.        , 0.24552254, 0.16668093, 0.3334116 ],\n",
       "        [0.5313917 , 0.        , 0.        , 0.        ],\n",
       "        [0.34899425, 0.        , 0.16663378, 0.33335467]]))"
      ]
     },
     "execution_count": 7,
     "metadata": {},
     "output_type": "execute_result"
    }
   ],
   "source": [
    "effective_indices, rating = comprehensive_search(X_pre, y_pre, \n",
    "                                                 max_support_size=max_support_size,  \n",
    "                                                 threshold=0.75)\n",
    "effective_indices, rating"
   ]
  },
  {
   "cell_type": "code",
   "execution_count": 8,
   "id": "b9cf11d4-b85a-40c3-90a1-d697e8bebb98",
   "metadata": {},
   "outputs": [],
   "source": [
    "from exhaustive_selection import best_subset\n",
    "from functools import partial\n",
    "from p_tqdm import p_map"
   ]
  },
  {
   "cell_type": "code",
   "execution_count": 9,
   "id": "8a5a140a-95e2-4bc3-9c69-d7d9b3404b04",
   "metadata": {},
   "outputs": [
    {
     "data": {
      "application/vnd.jupyter.widget-view+json": {
       "model_id": "9d2f6970798a454cbb07cbba25953fea",
       "version_major": 2,
       "version_minor": 0
      },
      "text/plain": [
       "  0%|          | 0/5 [00:00<?, ?it/s]"
      ]
     },
     "metadata": {},
     "output_type": "display_data"
    },
    {
     "data": {
      "text/plain": [
       "[(6,), (4, 6), (4, 5, 6), (4, 6, 9, 11), (1, 2, 3, 4, 6)]"
      ]
     },
     "execution_count": 9,
     "metadata": {},
     "output_type": "execute_result"
    }
   ],
   "source": [
    "best_subset_results = p_map(partial(best_subset, X_pre, y_pre), [1, 2, 3, 4, 5])\n",
    "best_subset_results"
   ]
  },
  {
   "cell_type": "markdown",
   "id": "e14e1078-0e03-4c15-b489-6e9255b27897",
   "metadata": {},
   "source": [
    "### Exat model evidence ###"
   ]
  },
  {
   "cell_type": "code",
   "execution_count": 10,
   "id": "377ebff4-a13f-4535-a313-a06ee420b29f",
   "metadata": {},
   "outputs": [
    {
     "data": {
      "text/plain": [
       "([5854.946133478296,\n",
       "  5859.161323153708,\n",
       "  5856.104233791241,\n",
       "  5856.538095865691,\n",
       "  5855.59836748629],\n",
       " 2)"
      ]
     },
     "execution_count": 10,
     "metadata": {},
     "output_type": "execute_result"
    }
   ],
   "source": [
    "bme = [log_evidence(X_pre, y_pre, effective_indices, v=1e-2, standardize=False) for effective_indices in best_subset_results]\n",
    "bme, np.argmax(bme)+1"
   ]
  },
  {
   "cell_type": "markdown",
   "id": "43693306-75a9-4019-980e-4528eb917252",
   "metadata": {},
   "source": [
    "### Bayes factor ###"
   ]
  },
  {
   "cell_type": "code",
   "execution_count": 11,
   "id": "0c5a118e-986c-4fa4-9835-a515d04ac89a",
   "metadata": {},
   "outputs": [
    {
     "name": "stderr",
     "output_type": "stream",
     "text": [
      "Iter: 36it [00:31,  1.13it/s, beta=1, calls=54272, ESS=3847, logZ=4.31e+4, logP=4.31e+4, acc=0.309, steps=6, eff=0.588]     \n"
     ]
    }
   ],
   "source": [
    "effective_indices = [4, 6]\n",
    "X_pre_sub = X_pre[:, effective_indices].copy().T\n",
    "def log_likelihood(param):\n",
    "    global X_pre_sub, y_pre, N\n",
    "    ssr = np.sum(np.abs(param@X_pre_sub - y_pre.flatten())**2, axis=-1)\n",
    "    def ssr2llf(ssr, nobs):\n",
    "        nobs2 = nobs / 2.0\n",
    "        llf = -nobs2 * np.log(2 * np.pi) - nobs2 * np.log(ssr / nobs) - nobs2\n",
    "        return llf\n",
    "    return ssr2llf(ssr, N)\n",
    "\n",
    "n_dim = len(effective_indices)\n",
    "prior = pc.Prior(n_dim*[norm(0, 1)])\n",
    "sampler = pc.Sampler(\n",
    "    prior=prior,\n",
    "    likelihood=log_likelihood,\n",
    "    vectorize=True,\n",
    ")\n",
    "sampler.run()\n",
    "simple_samples, simple_weights, _, _  = sampler.posterior()\n",
    "logz_simple, logz_err_simple = sampler.evidence()"
   ]
  },
  {
   "cell_type": "code",
   "execution_count": 12,
   "id": "7236344b-ccee-4e6b-8e42-370321cff474",
   "metadata": {},
   "outputs": [
    {
     "name": "stderr",
     "output_type": "stream",
     "text": [
      "Iter: 43it [00:44,  1.03s/it, beta=1, calls=37376, ESS=3969, logZ=4.32e+4, logP=4.32e+4, acc=0.513, steps=2, eff=0.72]    \n"
     ]
    }
   ],
   "source": [
    "effective_indices = [4, 5, 6]\n",
    "X_pre_sub = X_pre[:, effective_indices].copy().T\n",
    "def log_likelihood(param):\n",
    "    global X_pre_sub, y_pre, N\n",
    "    ssr = np.sum(np.abs(param@X_pre_sub - y_pre.flatten())**2, axis=-1)\n",
    "    def ssr2llf(ssr, nobs):\n",
    "        nobs2 = nobs / 2.0\n",
    "        llf = -nobs2 * np.log(2 * np.pi) - nobs2 * np.log(ssr / nobs) - nobs2\n",
    "        return llf\n",
    "    return ssr2llf(ssr, N)\n",
    "\n",
    "n_dim = len(effective_indices)\n",
    "prior = pc.Prior(n_dim*[norm(0, 1)])\n",
    "sampler = pc.Sampler(\n",
    "    prior=prior,\n",
    "    likelihood=log_likelihood,\n",
    "    vectorize=True,\n",
    ")\n",
    "sampler.run()\n",
    "extended_samples, extended_weights, _, _  = sampler.posterior()\n",
    "logz_extended, logz_err_extended = sampler.evidence()"
   ]
  },
  {
   "cell_type": "code",
   "execution_count": 13,
   "id": "be17165b-4158-4fc0-a1d9-73a82c051781",
   "metadata": {},
   "outputs": [
    {
     "name": "stdout",
     "output_type": "stream",
     "text": [
      "The extended model is more probable than the simple model.\n"
     ]
    }
   ],
   "source": [
    "# Bayes factor of extended to simple model\n",
    "BF = np.exp(logz_extended-logz_simple)\n",
    "if BF > 1:\n",
    "    print('The extended model is more probable than the simple model.')\n",
    "else:\n",
    "    print('The simple model is more probable than the extended model.')"
   ]
  },
  {
   "cell_type": "code",
   "execution_count": 14,
   "id": "e5ade9e3-8447-4d8b-9097-b43892b6721f",
   "metadata": {},
   "outputs": [
    {
     "data": {
      "text/plain": [
       "array([ 0.09749514, -0.98368011])"
      ]
     },
     "execution_count": 14,
     "metadata": {},
     "output_type": "execute_result"
    }
   ],
   "source": [
    "np.dot(simple_weights, simple_samples)"
   ]
  },
  {
   "cell_type": "code",
   "execution_count": 15,
   "id": "6edc0f5d-3887-40c8-a637-5106ea332f10",
   "metadata": {},
   "outputs": [
    {
     "data": {
      "text/plain": [
       "array([ 0.09870591, -0.00288844, -1.00599192])"
      ]
     },
     "execution_count": 15,
     "metadata": {},
     "output_type": "execute_result"
    }
   ],
   "source": [
    "np.dot(extended_weights, extended_samples)"
   ]
  },
  {
   "cell_type": "code",
   "execution_count": null,
   "id": "d0030dcb-12e4-4f26-8b39-fd16fbe4b647",
   "metadata": {},
   "outputs": [],
   "source": []
  },
  {
   "cell_type": "code",
   "execution_count": null,
   "id": "ce9a8d66-ccfd-4720-a1fc-ba1ef572d689",
   "metadata": {},
   "outputs": [],
   "source": []
  }
 ],
 "metadata": {
  "kernelspec": {
   "display_name": "Python [conda env:sindy]",
   "language": "python",
   "name": "conda-env-sindy-py"
  },
  "language_info": {
   "codemirror_mode": {
    "name": "ipython",
    "version": 3
   },
   "file_extension": ".py",
   "mimetype": "text/x-python",
   "name": "python",
   "nbconvert_exporter": "python",
   "pygments_lexer": "ipython3",
   "version": "3.10.13"
  }
 },
 "nbformat": 4,
 "nbformat_minor": 5
}
